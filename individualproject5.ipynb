{
 "cells": [
  {
   "cell_type": "code",
   "execution_count": null,
   "id": "c35042da",
   "metadata": {},
   "outputs": [],
   "source": [
    "#Hein Linn Htet CMSC 206 Individual Project 5\n",
    "\n",
    "# Cell 1: Import core libraries\n",
    "import os\n",
    "import requests\n",
    "import pandas as pd\n",
    "import simplekml\n",
    "from io import StringIO\n",
    "from pyproj import Geod\n",
    "\n"
   ]
  },
  {
   "cell_type": "code",
   "execution_count": null,
   "id": "4348142c",
   "metadata": {},
   "outputs": [
    {
     "name": "stdout",
     "output_type": "stream",
     "text": [
      "Working directory: c:\\Users\\heinl\\OneDrive\\Documents\\montgomerycollege\\CMSC206\\01\\individualproject5\n"
     ]
    }
   ],
   "source": [
    "# Cell 2: Report cwd (where the KML will be saved)\n",
    "cwd = os.getcwd()\n",
    "print(\"Working directory:\", cwd)\n",
    "geod = Geod(ellps=\"WGS84\")\n"
   ]
  },
  {
   "cell_type": "code",
   "execution_count": null,
   "id": "48738791",
   "metadata": {},
   "outputs": [],
   "source": [
    "# Cell 3: Download the USGS CSV and prepare DataFrame & ring settings\n",
    "url = \"https://earthquake.usgs.gov/earthquakes/feed/v1.0/summary/all_day.csv\"\n",
    "r = requests.get(url)\n",
    "r.raise_for_status()\n",
    "\n",
    "\n",
    "from io import StringIO\n",
    "df = pd.read_csv(StringIO(r.text))\n",
    "\n",
    "\n",
    "df = df.dropna(subset=[\"latitude\",\"longitude\",\"mag\",\"place\",\"time\"])\n",
    "df.head(3)\n",
    "\n",
    "km_per_mag = 10.0\n",
    "\n",
    "circle_points = 36\n",
    "\n",
    "\n"
   ]
  },
  {
   "cell_type": "code",
   "execution_count": null,
   "id": "537870c3",
   "metadata": {},
   "outputs": [],
   "source": [
    "# Cell 4: Build the KML with placemarks + scaled geodesic rings\n",
    "kml = simplekml.Kml()\n",
    "\n",
    "for _, row in df.iterrows():\n",
    "    lon, lat, mag = row[\"longitude\"], row[\"latitude\"], row[\"mag\"]\n",
    "    place = row[\"place\"]\n",
    "    time = row[\"time\"]\n",
    "\n",
    "\n",
    "    desc = f\"<h1>{mag} Magnitude earthquake at {time}</h1>\"\n",
    "    kml.newpoint(\n",
    "        name=place,\n",
    "        description=desc,\n",
    "        coords=[(lon, lat)]\n",
    "    )\n",
    "\n",
    "    radius_m = mag * km_per_mag * 1000 \n",
    "    azimuths = list(range(0, 360, int(360/circle_points)))\n",
    "    circle_coords = []\n",
    "    for az in azimuths:\n",
    "        lon2, lat2, _ = geod.fwd(lon, lat, az, radius_m)\n",
    "        circle_coords.append((lon2, lat2))\n",
    "    circle_coords.append(circle_coords[0])  \n",
    "\n",
    "    poly = kml.newpolygon(\n",
    "        name=f\"{mag}-mag ring @ {place}\",\n",
    "        outerboundaryis=circle_coords\n",
    "    )\n",
    "    poly.style.polystyle.fill = 0             \n",
    "    poly.style.linestyle.width = 2            \n",
    "    poly.style.linestyle.color = \"7fff0000\"    \n",
    "\n",
    "\n",
    "\n"
   ]
  },
  {
   "cell_type": "code",
   "execution_count": 32,
   "id": "85f343ec",
   "metadata": {},
   "outputs": [
    {
     "name": "stdout",
     "output_type": "stream",
     "text": [
      " Saved KML : c:\\Users\\heinl\\OneDrive\\Documents\\montgomerycollege\\CMSC206\\01\\individualproject5\\earthquakes_with_rings.kml\n"
     ]
    }
   ],
   "source": [
    "# Cell 5: Save to the notebook’s directory\n",
    "outfile = os.path.join(cwd, \"earthquakes_with_rings.kml\")\n",
    "kml.save(outfile)\n",
    "print(f\" Saved KML : {outfile}\")\n"
   ]
  }
 ],
 "metadata": {
  "kernelspec": {
   "display_name": "Python 3",
   "language": "python",
   "name": "python3"
  },
  "language_info": {
   "codemirror_mode": {
    "name": "ipython",
    "version": 3
   },
   "file_extension": ".py",
   "mimetype": "text/x-python",
   "name": "python",
   "nbconvert_exporter": "python",
   "pygments_lexer": "ipython3",
   "version": "3.12.5"
  }
 },
 "nbformat": 4,
 "nbformat_minor": 5
}
